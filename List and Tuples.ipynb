{
 "cells": [
  {
   "cell_type": "markdown",
   "id": "48e68fa2-bc71-46bb-a661-ae10b1c536f9",
   "metadata": {},
   "source": [
    "# 1.Write a program to store seven fruits in a list entered by a user."
   ]
  },
  {
   "cell_type": "code",
   "execution_count": 5,
   "id": "040b7143-4a2b-4236-8104-b7e745b2bf9e",
   "metadata": {},
   "outputs": [
    {
     "name": "stdin",
     "output_type": "stream",
     "text": [
      "Enter the fruit number 1:  Apple\n",
      "Enter the fruit number 2:  Mango\n",
      "Enter the fruit number 3:  Orange\n",
      "Enter the fruit number 4:  Grapes\n",
      "Enter the fruit number 5:  Guava\n",
      "Enter the fruit number 6:  Banana\n",
      "Enter the fruit number 7:  Papaya\n"
     ]
    },
    {
     "name": "stdout",
     "output_type": "stream",
     "text": [
      "['Apple', 'Mango', 'Orange', 'Grapes', 'Guava', 'Banana', 'Papaya']\n"
     ]
    }
   ],
   "source": [
    "f1 = input(\"Enter the fruit number 1: \")\n",
    "f2 = input(\"Enter the fruit number 2: \")\n",
    "f3 = input(\"Enter the fruit number 3: \")\n",
    "f4 = input(\"Enter the fruit number 4: \")\n",
    "f5 = input(\"Enter the fruit number 5: \")\n",
    "f6 = input(\"Enter the fruit number 6: \")\n",
    "f7 = input(\"Enter the fruit number 7: \")\n",
    "\n",
    "my_fruits_list = [f1, f2, f3, f4, f5, f6, f7]\n",
    "print(my_fruits_list)"
   ]
  },
  {
   "cell_type": "markdown",
   "id": "952d7e33-ef6c-41f6-ad2e-f51c25a20d6f",
   "metadata": {},
   "source": [
    "# 2.Write a program to accept marks of 6 students and displays them in a sorted manner."
   ]
  },
  {
   "cell_type": "code",
   "execution_count": 8,
   "id": "5e21d7ba-3969-4de4-a324-f4e2b8faa776",
   "metadata": {},
   "outputs": [
    {
     "name": "stdin",
     "output_type": "stream",
     "text": [
      "Enter the marks of student 1:  78\n",
      "Enter the marks of student 2:  50\n",
      "Enter the marks of student 3:  98\n",
      "Enter the marks of student 4:  38\n",
      "Enter the marks of student 5:  66\n",
      "Enter the marks of student 6:  35\n"
     ]
    },
    {
     "name": "stdout",
     "output_type": "stream",
     "text": [
      "[78, 50, 98, 38, 66, 35]\n"
     ]
    }
   ],
   "source": [
    "M1 = int(input(\"Enter the marks of student 1: \"))\n",
    "M2 = int(input(\"Enter the marks of student 2: \"))\n",
    "M3 = int(input(\"Enter the marks of student 3: \"))\n",
    "M4 = int(input(\"Enter the marks of student 4: \"))\n",
    "M5 = int(input(\"Enter the marks of student 5: \"))\n",
    "M6 = int(input(\"Enter the marks of student 6: \"))\n",
    "\n",
    "Marks_list = [M1, M2, M3, M4, M5, M6]\n",
    "\n",
    "print(Marks_list)"
   ]
  },
  {
   "cell_type": "markdown",
   "id": "8fb1c85a-4fed-49f9-8a9e-f021fc512206",
   "metadata": {},
   "source": [
    "# 3.Check that a tuple cannot be changed in python."
   ]
  },
  {
   "cell_type": "code",
   "execution_count": 11,
   "id": "53caafcc-e8da-4e84-98bc-b675c114f3bd",
   "metadata": {},
   "outputs": [
    {
     "ename": "TypeError",
     "evalue": "'tuple' object does not support item assignment",
     "output_type": "error",
     "traceback": [
      "\u001b[1;31m---------------------------------------------------------------------------\u001b[0m",
      "\u001b[1;31mTypeError\u001b[0m                                 Traceback (most recent call last)",
      "Cell \u001b[1;32mIn[11], line 3\u001b[0m\n\u001b[0;32m      1\u001b[0m a \u001b[38;5;241m=\u001b[39m (\u001b[38;5;241m1\u001b[39m,\u001b[38;5;241m2\u001b[39m,\u001b[38;5;241m3\u001b[39m,\u001b[38;5;241m4\u001b[39m,\u001b[38;5;241m5\u001b[39m,\u001b[38;5;241m6\u001b[39m,\u001b[38;5;241m7\u001b[39m,\u001b[38;5;241m8\u001b[39m)\n\u001b[1;32m----> 3\u001b[0m a[\u001b[38;5;241m0\u001b[39m] \u001b[38;5;241m=\u001b[39m \u001b[38;5;241m10\u001b[39m\n",
      "\u001b[1;31mTypeError\u001b[0m: 'tuple' object does not support item assignment"
     ]
    }
   ],
   "source": [
    "a = (1,2,3,4,5,6,7,8)\n",
    "\n",
    "a[0] = 10"
   ]
  },
  {
   "cell_type": "markdown",
   "id": "a9ecf602-a13d-4b4e-86d7-afbc1b011c1a",
   "metadata": {},
   "source": [
    "# 4.Write a program to sum a list with 4 numbers."
   ]
  },
  {
   "cell_type": "code",
   "execution_count": 14,
   "id": "302aedb8-49b5-4277-841c-0ef044da1eed",
   "metadata": {},
   "outputs": [
    {
     "name": "stdout",
     "output_type": "stream",
     "text": [
      "100\n"
     ]
    }
   ],
   "source": [
    "a = [10,20,30,40]\n",
    "\n",
    "sum = a[0] + a[1] + a[2] + a[3]\n",
    "\n",
    "print(sum)"
   ]
  },
  {
   "cell_type": "markdown",
   "id": "69106815-0f0c-4502-96ff-4b28022e0f0d",
   "metadata": {},
   "source": [
    "# 5. Write a program to count the number of zeros in the following tuple:\n",
    "\n",
    "          a = (7,0,8,0,0,9)"
   ]
  },
  {
   "cell_type": "code",
   "execution_count": 17,
   "id": "8d7b005e-7ba6-4d50-abe2-41af8f675b2f",
   "metadata": {},
   "outputs": [
    {
     "name": "stdout",
     "output_type": "stream",
     "text": [
      "3\n"
     ]
    }
   ],
   "source": [
    "a = (7,0,8,0,0,9)\n",
    "\n",
    "print(a.count(0))"
   ]
  },
  {
   "cell_type": "code",
   "execution_count": null,
   "id": "65dffa27-49b5-4ce1-8119-228be35afd90",
   "metadata": {},
   "outputs": [],
   "source": []
  }
 ],
 "metadata": {
  "kernelspec": {
   "display_name": "Python 3 (ipykernel)",
   "language": "python",
   "name": "python3"
  },
  "language_info": {
   "codemirror_mode": {
    "name": "ipython",
    "version": 3
   },
   "file_extension": ".py",
   "mimetype": "text/x-python",
   "name": "python",
   "nbconvert_exporter": "python",
   "pygments_lexer": "ipython3",
   "version": "3.11.7"
  }
 },
 "nbformat": 4,
 "nbformat_minor": 5
}
